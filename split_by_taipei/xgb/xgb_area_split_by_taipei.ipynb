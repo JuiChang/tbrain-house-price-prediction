{
 "cells": [
  {
   "cell_type": "code",
   "execution_count": 1,
   "metadata": {
    "colab": {},
    "colab_type": "code",
    "id": "HSwcG1mcAd39"
   },
   "outputs": [],
   "source": [
    "import numpy as np\n",
    "import pandas as pd\n",
    "import matplotlib.pyplot as plt"
   ]
  },
  {
   "cell_type": "code",
   "execution_count": 2,
   "metadata": {
    "colab": {},
    "colab_type": "code",
    "id": "GEBfi994Ad4B"
   },
   "outputs": [],
   "source": [
    "train = pd.read_csv('../../dataset/train.csv')\n",
    "test = pd.read_csv('../../dataset/test.csv')"
   ]
  },
  {
   "cell_type": "code",
   "execution_count": 3,
   "metadata": {},
   "outputs": [
    {
     "name": "stdout",
     "output_type": "stream",
     "text": [
      "49244 8233\n"
     ]
    }
   ],
   "source": [
    "train = train.loc[train.city != 13]\n",
    "test = test.loc[test.city != 13]\n",
    "len_train = len(train)\n",
    "len_test = len(test)\n",
    "print(len_train, len_test)\n",
    "\n",
    "# len_train = 60000\n",
    "# len_test = 10000"
   ]
  },
  {
   "cell_type": "code",
   "execution_count": 4,
   "metadata": {
    "colab": {
     "base_uri": "https://localhost:8080/",
     "height": 101
    },
    "colab_type": "code",
    "executionInfo": {
     "elapsed": 3956,
     "status": "ok",
     "timestamp": 1560066673520,
     "user": {
      "displayName": "Jui Chang",
      "photoUrl": "",
      "userId": "05195575351194981658"
     },
     "user_tz": -480
    },
    "id": "YgflFQnoAd4D",
    "outputId": "34e023ec-7008-445e-9950-9f2051883451"
   },
   "outputs": [
    {
     "name": "stdout",
     "output_type": "stream",
     "text": [
      "Show #missing in the columns:\n",
      "parking_area : 46800\n",
      "parking_price : 37433\n",
      "txn_floor : 15578\n",
      "village_income_median : 1026\n"
     ]
    }
   ],
   "source": [
    "def num_null(df):\n",
    "    missing = df.isnull().sum()\n",
    "    print('Show #missing in the columns:')\n",
    "    for i in range(df.shape[1]):\n",
    "        if missing[i]:\n",
    "            print(missing.index[i], ':', missing[i])\n",
    "            \n",
    "\n",
    "def metric(truth, pred):\n",
    "    truth = np.array(truth)\n",
    "    pred = np.array(pred)\n",
    "    diff = abs(pred - truth) / truth\n",
    "    print(list(diff <= 0.1).count(True) / len(diff))\n",
    "    \n",
    "\n",
    "num_null(train)"
   ]
  },
  {
   "cell_type": "code",
   "execution_count": 5,
   "metadata": {
    "colab": {},
    "colab_type": "code",
    "id": "MQewZLwtAd4N"
   },
   "outputs": [],
   "source": [
    "train['total_price'] = np.log1p(train[\"total_price\"] / train[\"building_area\"])"
   ]
  },
  {
   "cell_type": "code",
   "execution_count": 6,
   "metadata": {
    "colab": {},
    "colab_type": "code",
    "id": "ef67fXlSAd4Q"
   },
   "outputs": [],
   "source": [
    "X = pd.concat([train.drop(['total_price'], axis=1), test])\n",
    "X.reset_index(inplace=True, drop=True)"
   ]
  },
  {
   "cell_type": "markdown",
   "metadata": {
    "colab_type": "text",
    "id": "hDblhrovAd4T"
   },
   "source": [
    "#### Imputation\n",
    "\n",
    "missing value imputation strategy:   \n",
    "parking_area：補零  \n",
    "parking_price：中位數  \n",
    "txn_floor：中位數  \n",
    "village_income_median：以經緯度取kNN"
   ]
  },
  {
   "cell_type": "code",
   "execution_count": 7,
   "metadata": {
    "colab": {
     "base_uri": "https://localhost:8080/",
     "height": 101
    },
    "colab_type": "code",
    "executionInfo": {
     "elapsed": 5030,
     "status": "ok",
     "timestamp": 1560066674636,
     "user": {
      "displayName": "Jui Chang",
      "photoUrl": "",
      "userId": "05195575351194981658"
     },
     "user_tz": -480
    },
    "id": "Q6sKNKeBAd4U",
    "outputId": "e95b2657-358f-4716-d85a-55821d439867"
   },
   "outputs": [
    {
     "name": "stdout",
     "output_type": "stream",
     "text": [
      "Show #missing in the columns:\n",
      "parking_area : 54648\n",
      "parking_price : 43757\n",
      "txn_floor : 18172\n",
      "village_income_median : 1191\n"
     ]
    }
   ],
   "source": [
    "num_null(X)"
   ]
  },
  {
   "cell_type": "code",
   "execution_count": 8,
   "metadata": {
    "colab": {},
    "colab_type": "code",
    "id": "YBrmTsqOAd4X"
   },
   "outputs": [],
   "source": [
    "pd.options.mode.chained_assignment = None"
   ]
  },
  {
   "cell_type": "code",
   "execution_count": 9,
   "metadata": {
    "colab": {},
    "colab_type": "code",
    "id": "g9zfiiTwAd4b"
   },
   "outputs": [],
   "source": [
    "X_imp = X.copy()\n",
    "X_imp['parking_area'].fillna(0, inplace=True)\n",
    "X_imp['parking_price'].fillna(X_imp['parking_price'].median(), inplace=True)\n",
    "# X_imp['txn_floor'].fillna(X_imp['txn_floor'].median(), inplace=True)\n",
    "X_imp['txn_floor'].fillna(-1, inplace=True)\n",
    "# X_imp['txn_floor'].fillna(X_imp['total_floor'] / 2, inplace=True)"
   ]
  },
  {
   "cell_type": "code",
   "execution_count": 10,
   "metadata": {
    "colab": {},
    "colab_type": "code",
    "id": "e-MlHK1NAd4k"
   },
   "outputs": [],
   "source": [
    "# knn_impute(X_imp, 'village_income_median', ['lat', 'lon'])\n",
    "vimm = X_imp.groupby('village').agg({'village_income_median':'mean'})\n",
    "\n",
    "vim_isnan = np.isnan(X_imp['village_income_median'])\n",
    "for i in range(len(X_imp)):\n",
    "    if vim_isnan[i]:\n",
    "        X_imp['village_income_median'][i] = vimm.loc[X_imp['village'][i], 'village_income_median']"
   ]
  },
  {
   "cell_type": "code",
   "execution_count": 11,
   "metadata": {
    "colab": {
     "base_uri": "https://localhost:8080/",
     "height": 50
    },
    "colab_type": "code",
    "executionInfo": {
     "elapsed": 5902,
     "status": "ok",
     "timestamp": 1560066675563,
     "user": {
      "displayName": "Jui Chang",
      "photoUrl": "",
      "userId": "05195575351194981658"
     },
     "user_tz": -480
    },
    "id": "GXnYi0W3Ad4o",
    "outputId": "2a08a5d2-d5e4-44e0-81ad-6a85bc0e3c94"
   },
   "outputs": [
    {
     "name": "stdout",
     "output_type": "stream",
     "text": [
      "Show #missing in the columns:\n",
      "village_income_median : 843\n"
     ]
    }
   ],
   "source": [
    "num_null(X_imp)"
   ]
  },
  {
   "cell_type": "code",
   "execution_count": 12,
   "metadata": {
    "colab": {},
    "colab_type": "code",
    "id": "sHAl_klYAd4u"
   },
   "outputs": [],
   "source": [
    "tvimm = X_imp.groupby('town').agg({'village_income_median':'median'})\n",
    "\n",
    "vim_isnan = np.isnan(X_imp['village_income_median'])\n",
    "for i in range(len(X_imp)):\n",
    "    if vim_isnan[i]:\n",
    "        X_imp['village_income_median'][i] = tvimm.loc[X_imp['town'][i], 'village_income_median']\n",
    "\n",
    "# knn_impute(X_imp, 'village_income_median', ['lat', 'lon'])"
   ]
  },
  {
   "cell_type": "code",
   "execution_count": 13,
   "metadata": {
    "colab": {
     "base_uri": "https://localhost:8080/",
     "height": 34
    },
    "colab_type": "code",
    "executionInfo": {
     "elapsed": 6900,
     "status": "ok",
     "timestamp": 1560066676599,
     "user": {
      "displayName": "Jui Chang",
      "photoUrl": "",
      "userId": "05195575351194981658"
     },
     "user_tz": -480
    },
    "id": "xXYLtaKCAd4x",
    "outputId": "b8565d9e-16db-45bc-c0dd-390b875d57fa"
   },
   "outputs": [
    {
     "name": "stdout",
     "output_type": "stream",
     "text": [
      "Show #missing in the columns:\n"
     ]
    }
   ],
   "source": [
    "num_null(X_imp)"
   ]
  },
  {
   "cell_type": "code",
   "execution_count": 14,
   "metadata": {
    "colab": {},
    "colab_type": "code",
    "id": "z5Nj3xtoAd42"
   },
   "outputs": [],
   "source": [
    "# X_imp['dt_diff'] = X_imp['txn_dt'] - X_imp['building_complete_dt']"
   ]
  },
  {
   "cell_type": "code",
   "execution_count": 15,
   "metadata": {
    "colab": {},
    "colab_type": "code",
    "id": "pi5SqljkAd45"
   },
   "outputs": [],
   "source": [
    "# X_imp.drop(list(X_imp.filter(regex=('_MIN'))), axis=1, inplace=True)\n",
    "# print(X_imp.shape)\n",
    "# X_imp.drop(list(X_imp.filter(regex=('_index_'))), axis=1, inplace=True)\n",
    "# print(X_imp.shape)\n",
    "# X_imp.drop(list(X_imp.filter(regex=('^N'))), axis=1, inplace=True)\n",
    "# print(X_imp.shape)\n",
    "# X_imp.drop(list(X_imp.filter(regex=('_10$'))), axis=1, inplace=True)\n",
    "# print(X_imp.shape)\n",
    "# X_imp.drop(list(X_imp.filter(regex=('_50$'))), axis=1, inplace=True)\n",
    "# print(X_imp.shape)\n",
    "# X_imp.drop(list(X_imp.filter(regex=('_100$'))), axis=1, inplace=True)\n",
    "# print(X_imp.shape)\n",
    "# X_imp.drop(list(X_imp.filter(regex=('_250$'))), axis=1, inplace=True)\n",
    "# print(X_imp.shape)\n",
    "# X_imp.drop(list(X_imp.filter(regex=('_500$'))), axis=1, inplace=True)\n",
    "# print(X_imp.shape)\n",
    "# X_imp.drop(list(X_imp.filter(regex=('_1000$'))), axis=1, inplace=True)\n",
    "# print(X_imp.shape)\n",
    "# X_imp.drop(list(X_imp.filter(regex=('_5000$'))), axis=1, inplace=True)\n",
    "# print(X_imp.shape)"
   ]
  },
  {
   "cell_type": "code",
   "execution_count": 16,
   "metadata": {
    "colab": {},
    "colab_type": "code",
    "id": "H96Zut3_Ad48"
   },
   "outputs": [],
   "source": [
    "# concat_train = pd.concat([X_train, Y_train], axis=1)\n",
    "concat_train = train.copy()\n",
    "\n",
    "# cat_mean_df = concat_train.groupby('building_material').agg({'total_price':'mean'})\n",
    "# X_imp['building_material'] = list(cat_mean_df.loc[list(X_imp['building_material']), :]['total_price'])\n",
    "\n",
    "# cat_mean_df = concat_train.groupby('city').agg({'total_price':'mean'})\n",
    "# X_imp['city'] = list(cat_mean_df.loc[list(X_imp['city']), :]['total_price'])\n",
    "\n",
    "# cat_mean_df = concat_train.groupby('town').agg({'total_price':'mean'})\n",
    "# X_imp['town'] = list(cat_mean_df.loc[list(X_imp['town']), :]['total_price'])\n",
    "\n",
    "# cat_mean_df = concat_train.groupby('village').agg({'total_price':'mean'})\n",
    "# X_imp['village'] = list(cat_mean_df.loc[list(X_imp['village']), :]['total_price'])\n",
    "\n",
    "# cat_mean_df = concat_train.groupby('building_type').agg({'total_price':'mean'})\n",
    "# X_imp['building_type'] = list(cat_mean_df.loc[list(X_imp['building_type']), :]['total_price'])\n",
    "\n",
    "# cat_mean_df = concat_train.groupby('building_use').agg({'total_price':'mean'})\n",
    "# X_imp['building_use'] = list(cat_mean_df.loc[list(X_imp['building_use']), :]['total_price'])\n",
    "\n",
    "# cat_mean_df = concat_train.groupby('parking_way').agg({'total_price':'mean'})\n",
    "# X_imp['parking_way'] = list(cat_mean_df.loc[list(X_imp['parking_way']), :]['total_price'])\n",
    "\n",
    "\n",
    "\n",
    "\n",
    "\n",
    "building_material_dummies = pd.get_dummies(X_imp['building_material'])\n",
    "building_material_dummies.columns = ['building_material_' + str(col) for col in building_material_dummies.columns]\n",
    "X_imp = pd.concat([X_imp, building_material_dummies], axis=1)\n",
    "X_imp.drop(['building_material', building_material_dummies.columns[0]], inplace=True, axis=1)\n",
    "\n",
    "city_dummies = pd.get_dummies(X_imp['city'])\n",
    "city_dummies.columns = ['city_' + str(col) for col in city_dummies.columns]\n",
    "X_imp = pd.concat([X_imp, city_dummies], axis=1)\n",
    "X_imp.drop(['city', city_dummies.columns[0]], inplace=True, axis=1)\n",
    "\n",
    "# town_dummies = pd.get_dummies(X_imp['town'])\n",
    "# town_dummies.columns = ['town_' + str(col) for col in town_dummies.columns]\n",
    "# X_imp = pd.concat([X_imp, town_dummies], axis=1)\n",
    "# X_imp.drop(['town', town_dummies.columns[0]], inplace=True, axis=1)\n",
    "\n",
    "# village_dummies = pd.get_dummies(X_imp['village'])\n",
    "# village_dummies.columns = ['village_' + str(col) for col in village_dummies.columns]\n",
    "# X_imp = pd.concat([X_imp, village_dummies], axis=1)\n",
    "# X_imp.drop(['village', village_dummies.columns[0]], inplace=True, axis=1)\n",
    "\n",
    "building_type_dummies = pd.get_dummies(X_imp['building_type'])\n",
    "building_type_dummies.columns = ['building_type_' + str(col) for col in building_type_dummies.columns]\n",
    "X_imp = pd.concat([X_imp, building_type_dummies], axis=1)\n",
    "X_imp.drop(['building_type', building_type_dummies.columns[0]], inplace=True, axis=1)\n",
    "\n",
    "building_use_dummies = pd.get_dummies(X_imp['building_use'])\n",
    "building_use_dummies.columns = ['building_use_' + str(col) for col in building_use_dummies.columns]\n",
    "X_imp = pd.concat([X_imp, building_use_dummies], axis=1)\n",
    "X_imp.drop(['building_use', building_use_dummies.columns[0]], inplace=True, axis=1)\n",
    "\n",
    "parking_way_dummies = pd.get_dummies(X_imp['parking_way'])\n",
    "parking_way_dummies.columns = ['parking_way_' + str(col) for col in parking_way_dummies.columns]\n",
    "X_imp = pd.concat([X_imp, parking_way_dummies], axis=1)\n",
    "X_imp.drop(['parking_way', parking_way_dummies.columns[0]], inplace=True, axis=1)\n"
   ]
  },
  {
   "cell_type": "code",
   "execution_count": 17,
   "metadata": {
    "colab": {},
    "colab_type": "code",
    "id": "LUkS5SqGAd4_"
   },
   "outputs": [],
   "source": [
    "# X_imp.drop(['parking_price', 'parking_area', 'parking_way'], axis=1, inplace = True)"
   ]
  },
  {
   "cell_type": "code",
   "execution_count": 18,
   "metadata": {
    "colab": {},
    "colab_type": "code",
    "id": "bNXeyIUSAd5C"
   },
   "outputs": [],
   "source": [
    "post_train = X_imp.head(len_train)\n",
    "X_test = X_imp.tail(len_test)\n",
    "\n",
    "post_train.drop('building_id', axis=1, inplace=True)\n",
    "post_train['total_price'] = train['total_price'].reset_index(drop=True)\n",
    "\n",
    "test_building_id = X_test['building_id']\n",
    "X_test.drop('building_id', axis=1, inplace=True)"
   ]
  },
  {
   "cell_type": "code",
   "execution_count": 19,
   "metadata": {
    "colab": {},
    "colab_type": "code",
    "id": "P0f-npgKAd5H"
   },
   "outputs": [],
   "source": [
    "# rm_outlier_cols = ['total_price']\n",
    "# for col in rm_outlier_cols:\n",
    "#     col99 = np.percentile(post_train[col], 99)\n",
    "# #     col01 = np.percentile(post_train[col], 1)\n",
    "#     post_train = post_train[post_train[col] <= col99]\n",
    "# #     post_train = post_train[post_train[col] >= col01]"
   ]
  },
  {
   "cell_type": "code",
   "execution_count": 20,
   "metadata": {
    "colab": {},
    "colab_type": "code",
    "id": "YP0f3DrCAd5L",
    "scrolled": true
   },
   "outputs": [],
   "source": [
    "from sklearn.model_selection import train_test_split\n",
    "# X_train_valid, X_test, Y_train_valid, Y_test = train_test_split(\n",
    "#                         post_train.drop('total_price', axis=1), post_train['total_price'], test_size=0.2, random_state=42)\n",
    "# X_train, X_valid, Y_train, Y_valid = train_test_split(\n",
    "#                         X_train_valid, Y_train_valid, test_size=0.15, random_state=41)\n"
   ]
  },
  {
   "cell_type": "code",
   "execution_count": 21,
   "metadata": {
    "colab": {},
    "colab_type": "code",
    "id": "qSWB9BsnAd5Q"
   },
   "outputs": [],
   "source": [
    "from xgboost import XGBRegressor\n",
    "from xgboost import plot_importance\n",
    "import time\n",
    "\n",
    "# ts = time.time()\n",
    "\n",
    "# model = XGBRegressor(\n",
    "#     max_depth=16,\n",
    "#     n_estimators=10000,\n",
    "#     learning_rate=0.01,\n",
    "#     nthread=8)\n",
    "\n",
    "# model.fit(\n",
    "#     X_train, \n",
    "#     Y_train,\n",
    "#     eval_metric=\"rmse\", \n",
    "#     eval_set=[(X_train, Y_train), (X_valid, Y_valid)],\n",
    "#     verbose=False,\n",
    "#     early_stopping_rounds=20)\n",
    "\n",
    "# print(time.time() - ts)\n",
    "\n",
    "\n",
    "# Y_valid_predict = model.predict(X_valid)\n",
    "# Y_valid_predict = np.floor(np.expm1(Y_valid_predict))\n",
    "# Y_valid = np.floor(np.expm1(Y_valid))\n",
    "# metric(Y_valid, Y_valid_predict)"
   ]
  },
  {
   "cell_type": "code",
   "execution_count": 22,
   "metadata": {
    "colab": {},
    "colab_type": "code",
    "id": "KNiMcJqrAd5a"
   },
   "outputs": [],
   "source": [
    "# Y_test_predict = model.predict(X_test)\n",
    "# Y_test_predict = np.floor(np.expm1(Y_test_predict)) * X_test['building_area']"
   ]
  },
  {
   "cell_type": "code",
   "execution_count": 23,
   "metadata": {
    "colab": {},
    "colab_type": "code",
    "id": "Ttf63hxPAd5g"
   },
   "outputs": [],
   "source": [
    "# submission = pd.DataFrame({\n",
    "#     \"building_id\": test_building_id, \n",
    "#     \"total_price\": Y_test_predict\n",
    "# })\n",
    "# submission.to_csv('./submission/submission_area1.csv', index=False)"
   ]
  },
  {
   "cell_type": "markdown",
   "metadata": {
    "colab_type": "text",
    "id": "hmfMG19wAd5l"
   },
   "source": [
    "#### train valid (all, no self test set)"
   ]
  },
  {
   "cell_type": "code",
   "execution_count": 24,
   "metadata": {
    "colab": {},
    "colab_type": "code",
    "id": "UVhBzYm0NHbk"
   },
   "outputs": [],
   "source": [
    "X_train, X_valid, Y_train, Y_valid = train_test_split(\n",
    "                        post_train.drop('total_price', axis=1), post_train['total_price'], test_size=5000/60000, random_state=42)"
   ]
  },
  {
   "cell_type": "code",
   "execution_count": 25,
   "metadata": {
    "colab": {
     "base_uri": "https://localhost:8080/",
     "height": 84
    },
    "colab_type": "code",
    "executionInfo": {
     "elapsed": 1354190,
     "status": "ok",
     "timestamp": 1560071738529,
     "user": {
      "displayName": "Jui Chang",
      "photoUrl": "",
      "userId": "05195575351194981658"
     },
     "user_tz": -480
    },
    "id": "aoqQU8JgAd5m",
    "outputId": "13117164-79b7-4eea-aab2-36d628d3631e"
   },
   "outputs": [
    {
     "name": "stderr",
     "output_type": "stream",
     "text": [
      "/home/dsai-2/anaconda3/envs/jui/lib/python3.7/site-packages/xgboost/core.py:587: FutureWarning: Series.base is deprecated and will be removed in a future version\n",
      "  if getattr(data, 'base', None) is not None and \\\n"
     ]
    },
    {
     "name": "stdout",
     "output_type": "stream",
     "text": [
      "[16:18:50] WARNING: /workspace/src/objective/regression_obj.cu:152: reg:linear is now deprecated in favor of reg:squarederror.\n",
      "353.93562150001526\n"
     ]
    }
   ],
   "source": [
    "ts = time.time()\n",
    "\n",
    "model = XGBRegressor(\n",
    "    max_depth=16,\n",
    "    n_estimators=10000,\n",
    "    learning_rate=0.01,\n",
    "    nthread=20)\n",
    "\n",
    "model.fit(\n",
    "    X_train, \n",
    "    Y_train,\n",
    "    eval_metric=\"rmse\", \n",
    "    eval_set=[(X_train, Y_train), (X_valid, Y_valid)],\n",
    "    verbose=False,\n",
    "    early_stopping_rounds=20)\n",
    "\n",
    "print(time.time() - ts)"
   ]
  },
  {
   "cell_type": "code",
   "execution_count": 26,
   "metadata": {
    "colab": {},
    "colab_type": "code",
    "id": "VuR-qIezAd5q"
   },
   "outputs": [],
   "source": [
    "Y_test_predict = model.predict(X_test)\n",
    "Y_test_predict = np.floor(np.expm1(Y_test_predict)) * X_test['building_area']"
   ]
  },
  {
   "cell_type": "code",
   "execution_count": 27,
   "metadata": {
    "colab": {},
    "colab_type": "code",
    "id": "sPRmQ_5pAd5s"
   },
   "outputs": [],
   "source": [
    "submission = pd.DataFrame({\n",
    "    \"building_id\": test_building_id, \n",
    "    \"total_price\": Y_test_predict\n",
    "})\n",
    "submission.to_csv('../../output/submission_xgb_area_valid_out_from_taipei.csv', index=False)"
   ]
  },
  {
   "cell_type": "code",
   "execution_count": null,
   "metadata": {
    "colab": {},
    "colab_type": "code",
    "id": "ZiVYM-ENAd5w"
   },
   "outputs": [],
   "source": []
  }
 ],
 "metadata": {
  "colab": {
   "name": "xgb_area_validate.ipynb",
   "provenance": [],
   "version": "0.3.2"
  },
  "kernelspec": {
   "display_name": "Python3.7 (jui)",
   "language": "python",
   "name": "jui"
  },
  "language_info": {
   "codemirror_mode": {
    "name": "ipython",
    "version": 3
   },
   "file_extension": ".py",
   "mimetype": "text/x-python",
   "name": "python",
   "nbconvert_exporter": "python",
   "pygments_lexer": "ipython3",
   "version": "3.7.3"
  }
 },
 "nbformat": 4,
 "nbformat_minor": 2
}
