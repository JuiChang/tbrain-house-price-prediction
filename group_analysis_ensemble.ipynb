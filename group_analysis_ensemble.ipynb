{
 "cells": [
  {
   "cell_type": "code",
   "execution_count": 1,
   "metadata": {},
   "outputs": [],
   "source": [
    "import numpy as np\n",
    "import pandas as pd\n",
    "import time"
   ]
  },
  {
   "cell_type": "code",
   "execution_count": 2,
   "metadata": {},
   "outputs": [],
   "source": [
    "def metric_df(df):\n",
    "    truth = np.array(df['truth'])\n",
    "    pred = np.array(df['pred'])\n",
    "    diff = abs(pred - truth) / truth\n",
    "#     print(list(diff <= 0.1).count(True) / len(diff))\n",
    "    return list(diff <= 0.1).count(True) / len(diff)"
   ]
  },
  {
   "cell_type": "code",
   "execution_count": 3,
   "metadata": {},
   "outputs": [],
   "source": [
    "test = pd.read_csv('dataset/test.csv')\n",
    "train = pd.read_csv('dataset/train.csv')\n",
    "\n",
    "valid_result_1 = pd.read_pickle('./output/xgb_area_kfold_valid_result.pkl')\n",
    "submission = pd.read_csv('./output/submission_xgb_area_kfold_trainByAlltrain.csv')\n",
    "\n",
    "valid_result_2 = pd.read_pickle('./output/lgbm_area_kfold_valid_result.pkl')\n",
    "submission2 = pd.read_csv('./output/submission_lgbm_area_kfold_trainByAlltrain.csv')"
   ]
  },
  {
   "cell_type": "code",
   "execution_count": 4,
   "metadata": {},
   "outputs": [
    {
     "name": "stdout",
     "output_type": "stream",
     "text": [
      "2382 3852 1721\n",
      "0.8521237373352051\n"
     ]
    }
   ],
   "source": [
    "def ensemble_by_previous_validate_group_accuracy(sub1, sub2, test, valid, cols, val_result_1, val_result_2):\n",
    "    ### all arg. are series\n",
    "\n",
    "    sub1_val_groupacc = val_result_1.groupby(cols).apply(metric_df) ###\n",
    "#     print(sub1_val_groupacc)\n",
    "    sub2_val_groupacc = val_result_2.groupby(cols).apply(metric_df) ###\n",
    "    test_col_value = test.loc[:, cols]\n",
    "    per_group_count = valid.groupby(cols).agg({'building_id': ['count']})\n",
    "    \n",
    "    sub1.sort_index(inplace=True)\n",
    "    sub2.sort_index(inplace=True)\n",
    "    test_col_value.sort_index(inplace=True) ###\n",
    "    per_group_count.sort_index(inplace=True)\n",
    "    subdf = pd.concat([sub1, sub2, test_col_value], axis=1) ###\n",
    "    subdf['applymore_sub2'] = pd.Series()\n",
    "    subdf['applymore_sub1'] = pd.Series()\n",
    "    subdf['apply_avg'] = pd.Series()\n",
    "    subdf['ensemble'] = pd.Series()\n",
    "    \n",
    "    sub1_val_groupacc.sort_index(inplace=True)\n",
    "    sub2_val_groupacc.sort_index(inplace=True)\n",
    "    valdf = pd.concat([sub1_val_groupacc, sub2_val_groupacc], axis=1)\n",
    "#     print(valdf)\n",
    "    \n",
    "    print(sum(subdf.iloc[:, 2].isin(list(np.where(valdf.iloc[:, 0] > valdf.iloc[:, 1])[0]))), \\\n",
    "          sum(subdf.iloc[:, 2].isin(list(np.where(valdf.iloc[:, 0] < valdf.iloc[:, 1])[0]))), \\\n",
    "          sum(subdf.iloc[:, 2].isin(list(np.where(valdf.iloc[:, 0] == valdf.iloc[:, 1])[0]))))\n",
    "    \n",
    "    val2_greater_group = list(np.where(valdf.iloc[:, 0] < valdf.iloc[:, 1])[0]) ###\n",
    "    val1_greater_group = list(np.where(valdf.iloc[:, 0] > valdf.iloc[:, 1])[0]) ###\n",
    "    \n",
    "    subdf['applymore_sub2'] = subdf.iloc[:, 2].isin(val2_greater_group) ###\n",
    "    subdf['applymore_sub1'] = subdf.iloc[:, 2].isin(val1_greater_group)\n",
    "    subdf['apply_avg'] = ~subdf.iloc[:, 2].isin(val1_greater_group + val2_greater_group)\n",
    "    \n",
    "#     subdf['ensemble'] = subdf.iloc[:, 1] * subdf['apply_sub2'] * 0.5 + subdf.iloc[:, 0] * subdf['apply_sub2'] * 0.5 + \\\n",
    "#                         subdf.iloc[:, 0] * subdf['apply_sub1']\n",
    "    subdf['ensemble'] = subdf.iloc[:, 1] * subdf['applymore_sub2'] * 0.55 + subdf.iloc[:, 0] * subdf['applymore_sub2'] * 0.45 + \\\n",
    "                        subdf.iloc[:, 0] * subdf['applymore_sub1'] * 0.55 + subdf.iloc[:, 1] * subdf['applymore_sub1'] * 0.45 + \\\n",
    "                        subdf.iloc[:, 0] * subdf['apply_avg'] * 0.5 + subdf.iloc[:, 1] * subdf['apply_avg'] * 0.5\n",
    "            \n",
    "#     print(subdf)\n",
    "    return subdf['ensemble']\n",
    "\n",
    "\n",
    "\n",
    "# per_town_count = train.groupby('town').agg({'building_id': ['count']})\n",
    "ts = time.time()\n",
    "result = ensemble_by_previous_validate_group_accuracy(submission['total_price'].reset_index(drop=True), \n",
    "                                                      submission2['total_price'], test, train, ['town'],\n",
    "                                                      valid_result_1, valid_result_2)\n",
    "print(time.time() - ts)\n",
    "# result"
   ]
  },
  {
   "cell_type": "code",
   "execution_count": 5,
   "metadata": {},
   "outputs": [],
   "source": [
    "submission3 = pd.DataFrame({\n",
    "    \"building_id\": test.building_id, \n",
    "    \"total_price\": result\n",
    "})\n",
    "# submission3.to_csv('./output/submission_xgb_area_lgbm_area_kfold_town_ensemble.csv', index=False)"
   ]
  },
  {
   "cell_type": "code",
   "execution_count": 6,
   "metadata": {},
   "outputs": [
    {
     "data": {
      "text/plain": [
       "1"
      ]
     },
     "execution_count": 6,
     "metadata": {},
     "output_type": "execute_result"
    }
   ],
   "source": [
    "sum(submission3.total_price == submission2.total_price)"
   ]
  }
 ],
 "metadata": {
  "kernelspec": {
   "display_name": "Python3.7 (jui)",
   "language": "python",
   "name": "jui"
  },
  "language_info": {
   "codemirror_mode": {
    "name": "ipython",
    "version": 3
   },
   "file_extension": ".py",
   "mimetype": "text/x-python",
   "name": "python",
   "nbconvert_exporter": "python",
   "pygments_lexer": "ipython3",
   "version": "3.7.3"
  }
 },
 "nbformat": 4,
 "nbformat_minor": 2
}
