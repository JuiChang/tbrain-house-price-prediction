{
 "cells": [
  {
   "cell_type": "code",
   "execution_count": 1,
   "metadata": {},
   "outputs": [],
   "source": [
    "import numpy as np\n",
    "import pandas as pd\n",
    "import matplotlib.pyplot as plt\n",
    "\n",
    "import lightgbm as lgb\n",
    "\n",
    "import time"
   ]
  },
  {
   "cell_type": "code",
   "execution_count": 2,
   "metadata": {
    "colab": {},
    "colab_type": "code",
    "id": "yyJo81UXH2ck"
   },
   "outputs": [],
   "source": [
    "def num_null(df):\n",
    "    missing = df.isnull().sum()\n",
    "    print('Show #missing in the columns:')\n",
    "    for i in range(df.shape[1]):\n",
    "        if missing[i]:\n",
    "            print(missing.index[i], ':', missing[i])\n",
    "\n",
    "\n",
    "def metric(truth, pred):\n",
    "    truth = np.array(truth)\n",
    "    pred = np.array(pred)\n",
    "    diff = abs(pred - truth) / truth\n",
    "    print(list(diff <= 0.1).count(True) / len(diff))"
   ]
  },
  {
   "cell_type": "code",
   "execution_count": 3,
   "metadata": {
    "colab": {},
    "colab_type": "code",
    "id": "UnW3T6lpH2c0"
   },
   "outputs": [],
   "source": [
    "train = pd.read_csv('./dataset/train.csv')\n",
    "test = pd.read_csv('./dataset/test.csv')"
   ]
  },
  {
   "cell_type": "code",
   "execution_count": 4,
   "metadata": {},
   "outputs": [],
   "source": [
    "# train['town'] = train['city'] * 1000 + train['town']\n",
    "# test['town'] = test['city'] * 1000 + test['town']"
   ]
  },
  {
   "cell_type": "code",
   "execution_count": 5,
   "metadata": {
    "colab": {},
    "colab_type": "code",
    "id": "GgCm0DowH2c_"
   },
   "outputs": [],
   "source": [
    "train['total_price'] = np.log1p(train[\"total_price\"] / train[\"building_area\"])\n",
    "# train['total_price'] = np.log1p(train[\"total_price\"])"
   ]
  },
  {
   "cell_type": "code",
   "execution_count": 6,
   "metadata": {
    "colab": {},
    "colab_type": "code",
    "id": "_8dn8Ni6H2dI"
   },
   "outputs": [],
   "source": [
    "X = pd.concat([train.drop(['total_price'], axis=1), test])\n",
    "X.reset_index(inplace=True, drop=True)"
   ]
  },
  {
   "cell_type": "code",
   "execution_count": 7,
   "metadata": {
    "colab": {
     "base_uri": "https://localhost:8080/",
     "height": 101
    },
    "colab_type": "code",
    "executionInfo": {
     "elapsed": 5880,
     "status": "ok",
     "timestamp": 1560007746476,
     "user": {
      "displayName": "Jui Chang",
      "photoUrl": "",
      "userId": "05195575351194981658"
     },
     "user_tz": -480
    },
    "id": "3V99xhNGH2dZ",
    "outputId": "228565ea-5fda-4f32-d38b-184c439e7596"
   },
   "outputs": [
    {
     "name": "stdout",
     "output_type": "stream",
     "text": [
      "Show #missing in the columns:\n",
      "parking_area : 66397\n",
      "parking_price : 53775\n",
      "txn_floor : 18541\n",
      "village_income_median : 1326\n"
     ]
    }
   ],
   "source": [
    "num_null(X)"
   ]
  },
  {
   "cell_type": "code",
   "execution_count": 8,
   "metadata": {
    "colab": {},
    "colab_type": "code",
    "id": "9yqb4B2VH2dx"
   },
   "outputs": [],
   "source": [
    "pd.options.mode.chained_assignment = None"
   ]
  },
  {
   "cell_type": "code",
   "execution_count": 9,
   "metadata": {
    "colab": {},
    "colab_type": "code",
    "id": "ydGlT_0AH2d-"
   },
   "outputs": [],
   "source": [
    "X_imp = X.copy()\n",
    "X_imp['parking_area'].fillna(0, inplace=True)\n",
    "X_imp['parking_price'].fillna(X_imp['parking_price'].median(), inplace=True)\n",
    "X_imp['txn_floor'].fillna(-1, inplace=True)"
   ]
  },
  {
   "cell_type": "code",
   "execution_count": 10,
   "metadata": {
    "colab": {},
    "colab_type": "code",
    "id": "1nK-26JaH2eR"
   },
   "outputs": [],
   "source": [
    "vimm = X_imp.groupby('village').agg({'village_income_median':'mean'})\n",
    "\n",
    "vim_isnan = np.isnan(X_imp['village_income_median'])\n",
    "for i in range(len(X_imp)):\n",
    "    if vim_isnan[i]:\n",
    "        X_imp['village_income_median'][i] = vimm.loc[X_imp['village'][i], 'village_income_median']"
   ]
  },
  {
   "cell_type": "code",
   "execution_count": 11,
   "metadata": {
    "colab": {
     "base_uri": "https://localhost:8080/",
     "height": 50
    },
    "colab_type": "code",
    "executionInfo": {
     "elapsed": 7241,
     "status": "ok",
     "timestamp": 1560007747900,
     "user": {
      "displayName": "Jui Chang",
      "photoUrl": "",
      "userId": "05195575351194981658"
     },
     "user_tz": -480
    },
    "id": "wKm9TeaEH2eb",
    "outputId": "40127974-259c-410a-c98c-9bc18c23637e"
   },
   "outputs": [
    {
     "name": "stdout",
     "output_type": "stream",
     "text": [
      "Show #missing in the columns:\n",
      "village_income_median : 938\n"
     ]
    }
   ],
   "source": [
    "num_null(X_imp)"
   ]
  },
  {
   "cell_type": "code",
   "execution_count": 12,
   "metadata": {
    "colab": {},
    "colab_type": "code",
    "id": "XVZZJ1GhH2e2"
   },
   "outputs": [],
   "source": [
    "tvimm = X_imp.groupby('town').agg({'village_income_median':'median'})\n",
    "\n",
    "vim_isnan = np.isnan(X_imp['village_income_median'])\n",
    "for i in range(len(X_imp)):\n",
    "    if vim_isnan[i]:\n",
    "        X_imp['village_income_median'][i] = tvimm.loc[X_imp['town'][i], 'village_income_median']"
   ]
  },
  {
   "cell_type": "code",
   "execution_count": 13,
   "metadata": {
    "colab": {
     "base_uri": "https://localhost:8080/",
     "height": 34
    },
    "colab_type": "code",
    "executionInfo": {
     "elapsed": 7871,
     "status": "ok",
     "timestamp": 1560007748566,
     "user": {
      "displayName": "Jui Chang",
      "photoUrl": "",
      "userId": "05195575351194981658"
     },
     "user_tz": -480
    },
    "id": "kWoZQfjhH2e8",
    "outputId": "e507dea2-88e2-4aea-8ac7-48402801004e"
   },
   "outputs": [
    {
     "name": "stdout",
     "output_type": "stream",
     "text": [
      "Show #missing in the columns:\n"
     ]
    }
   ],
   "source": [
    "num_null(X_imp)"
   ]
  },
  {
   "cell_type": "code",
   "execution_count": 14,
   "metadata": {
    "colab": {},
    "colab_type": "code",
    "id": "4a8dIfnSH2fJ"
   },
   "outputs": [],
   "source": [
    "# X_imp['dt_diff'] = X_imp['txn_dt'] - X_imp['building_complete_dt']"
   ]
  },
  {
   "cell_type": "code",
   "execution_count": 15,
   "metadata": {
    "colab": {},
    "colab_type": "code",
    "id": "-5B6rRkmH2fZ"
   },
   "outputs": [],
   "source": [
    "# X_imp.drop(list(X_imp.filter(regex=('_MIN'))), axis=1, inplace=True)\n",
    "# print(X_imp.shape)\n",
    "# X_imp.drop(list(X_imp.filter(regex=('_index_'))), axis=1, inplace=True)\n",
    "# print(X_imp.shape)\n",
    "# X_imp.drop(list(X_imp.filter(regex=('^N'))), axis=1, inplace=True)\n",
    "# print(X_imp.shape)\n",
    "# X_imp.drop(list(X_imp.filter(regex=('_10$'))), axis=1, inplace=True)\n",
    "# print(X_imp.shape)\n",
    "# X_imp.drop(list(X_imp.filter(regex=('_50$'))), axis=1, inplace=True)\n",
    "# print(X_imp.shape)\n",
    "# X_imp.drop(list(X_imp.filter(regex=('_100$'))), axis=1, inplace=True)\n",
    "# print(X_imp.shape)\n",
    "# X_imp.drop(list(X_imp.filter(regex=('_250$'))), axis=1, inplace=True)\n",
    "# print(X_imp.shape)\n",
    "# X_imp.drop(list(X_imp.filter(regex=('_500$'))), axis=1, inplace=True)\n",
    "# print(X_imp.shape)\n",
    "# X_imp.drop(list(X_imp.filter(regex=('_1000$'))), axis=1, inplace=True)\n",
    "# print(X_imp.shape)\n",
    "# X_imp.drop(list(X_imp.filter(regex=('_5000$'))), axis=1, inplace=True)\n",
    "# print(X_imp.shape)"
   ]
  },
  {
   "cell_type": "code",
   "execution_count": 16,
   "metadata": {
    "colab": {},
    "colab_type": "code",
    "id": "P377bvdgH2fo"
   },
   "outputs": [],
   "source": [
    "# concat_train = pd.concat([X_train, Y_train], axis=1)\n",
    "concat_train = train.copy()\n",
    "\n",
    "# cat_mean_df = concat_train.groupby('building_material').agg({'total_price':'mean'})\n",
    "# X_imp['building_material'] = list(cat_mean_df.loc[list(X_imp['building_material']), :]['total_price'])\n",
    "\n",
    "# cat_mean_df = concat_train.groupby('city').agg({'total_price':'mean'})\n",
    "# X_imp['city'] = list(cat_mean_df.loc[list(X_imp['city']), :]['total_price'])\n",
    "\n",
    "# cat_mean_df = concat_train.groupby('town').agg({'total_price':'mean'})\n",
    "# X_imp['town'] = list(cat_mean_df.loc[list(X_imp['town']), :]['total_price'])\n",
    "\n",
    "# cat_mean_df = concat_train.groupby('village').agg({'total_price':'mean'})\n",
    "# X_imp['village'] = list(cat_mean_df.loc[list(X_imp['village']), :]['total_price'])\n",
    "\n",
    "# cat_mean_df = concat_train.groupby('building_type').agg({'total_price':'mean'})\n",
    "# X_imp['building_type'] = list(cat_mean_df.loc[list(X_imp['building_type']), :]['total_price'])\n",
    "\n",
    "# cat_mean_df = concat_train.groupby('building_use').agg({'total_price':'mean'})\n",
    "# X_imp['building_use'] = list(cat_mean_df.loc[list(X_imp['building_use']), :]['total_price'])\n",
    "\n",
    "# cat_mean_df = concat_train.groupby('parking_way').agg({'total_price':'mean'})\n",
    "# X_imp['parking_way'] = list(cat_mean_df.loc[list(X_imp['parking_way']), :]['total_price'])\n",
    "\n",
    "\n",
    "\n",
    "\n",
    "\n",
    "building_material_dummies = pd.get_dummies(X_imp['building_material'])\n",
    "building_material_dummies.columns = ['building_material_' + str(col) for col in building_material_dummies.columns]\n",
    "X_imp = pd.concat([X_imp, building_material_dummies], axis=1)\n",
    "X_imp.drop(['building_material', building_material_dummies.columns[0]], inplace=True, axis=1)\n",
    "\n",
    "city_dummies = pd.get_dummies(X_imp['city'])\n",
    "city_dummies.columns = ['city_' + str(col) for col in city_dummies.columns]\n",
    "X_imp = pd.concat([X_imp, city_dummies], axis=1)\n",
    "X_imp.drop(['city', city_dummies.columns[0]], inplace=True, axis=1)\n",
    "\n",
    "# town_dummies = pd.get_dummies(X_imp['town'])\n",
    "# town_dummies.columns = ['town_' + str(col) for col in town_dummies.columns]\n",
    "# X_imp = pd.concat([X_imp, town_dummies], axis=1)\n",
    "# X_imp.drop(['town', town_dummies.columns[0]], inplace=True, axis=1)\n",
    "\n",
    "# village_dummies = pd.get_dummies(X_imp['village'])\n",
    "# village_dummies.columns = ['village_' + str(col) for col in village_dummies.columns]\n",
    "# X_imp = pd.concat([X_imp, village_dummies], axis=1)\n",
    "# X_imp.drop(['village', village_dummies.columns[0]], inplace=True, axis=1)\n",
    "\n",
    "building_type_dummies = pd.get_dummies(X_imp['building_type'])\n",
    "building_type_dummies.columns = ['building_type_' + str(col) for col in building_type_dummies.columns]\n",
    "X_imp = pd.concat([X_imp, building_type_dummies], axis=1)\n",
    "X_imp.drop(['building_type', building_type_dummies.columns[0]], inplace=True, axis=1)\n",
    "\n",
    "building_use_dummies = pd.get_dummies(X_imp['building_use'])\n",
    "building_use_dummies.columns = ['building_use_' + str(col) for col in building_use_dummies.columns]\n",
    "X_imp = pd.concat([X_imp, building_use_dummies], axis=1)\n",
    "X_imp.drop(['building_use', building_use_dummies.columns[0]], inplace=True, axis=1)\n",
    "\n",
    "parking_way_dummies = pd.get_dummies(X_imp['parking_way'])\n",
    "parking_way_dummies.columns = ['parking_way_' + str(col) for col in parking_way_dummies.columns]\n",
    "X_imp = pd.concat([X_imp, parking_way_dummies], axis=1)\n",
    "X_imp.drop(['parking_way', parking_way_dummies.columns[0]], inplace=True, axis=1)\n"
   ]
  },
  {
   "cell_type": "code",
   "execution_count": 17,
   "metadata": {
    "colab": {},
    "colab_type": "code",
    "id": "UMC1SsI_H2f0"
   },
   "outputs": [],
   "source": [
    "# X_imp.drop(['parking_price', 'parking_area', 'parking_way'], axis=1, inplace = True)"
   ]
  },
  {
   "cell_type": "code",
   "execution_count": 18,
   "metadata": {
    "colab": {},
    "colab_type": "code",
    "id": "SHRohW-aH2f8"
   },
   "outputs": [],
   "source": [
    "post_train = X_imp.head(60000)\n",
    "X_test = X_imp.tail(10000)\n",
    "\n",
    "post_train.drop('building_id', axis=1, inplace=True)\n",
    "post_train['total_price'] = train.head(60000)['total_price']\n",
    "\n",
    "test_building_id = X_test['building_id']\n",
    "X_test.drop('building_id', axis=1, inplace=True)"
   ]
  },
  {
   "cell_type": "code",
   "execution_count": 19,
   "metadata": {
    "colab": {},
    "colab_type": "code",
    "id": "X8MmpUUUH2gI"
   },
   "outputs": [],
   "source": [
    "# rm_outlier_cols = ['total_price']\n",
    "# for col in rm_outlier_cols:\n",
    "#     col99 = np.percentile(post_train[col], 99)\n",
    "# #     col01 = np.percentile(post_train[col], 1)\n",
    "#     post_train = post_train[post_train[col] <= col99]\n",
    "# #     post_train = post_train[post_train[col] >= col01]"
   ]
  },
  {
   "cell_type": "code",
   "execution_count": 20,
   "metadata": {
    "colab": {},
    "colab_type": "code",
    "id": "zJ-gYz5_H2gM",
    "scrolled": true
   },
   "outputs": [],
   "source": [
    "from sklearn.model_selection import train_test_split\n",
    "X_train, X_valid, Y_train, Y_valid = train_test_split(\n",
    "                        post_train.drop('total_price', axis=1), post_train['total_price'], test_size=0.2, random_state=42)\n"
   ]
  },
  {
   "cell_type": "code",
   "execution_count": 21,
   "metadata": {
    "colab": {
     "base_uri": "https://localhost:8080/",
     "height": 50
    },
    "colab_type": "code",
    "executionInfo": {
     "elapsed": 109782,
     "status": "ok",
     "timestamp": 1560007850573,
     "user": {
      "displayName": "Jui Chang",
      "photoUrl": "",
      "userId": "05195575351194981658"
     },
     "user_tz": -480
    },
    "id": "wi5eY4K0H2gQ",
    "outputId": "af82d4fa-a4b1-4493-efd8-a5255e423715"
   },
   "outputs": [
    {
     "name": "stdout",
     "output_type": "stream",
     "text": [
      "15.677560567855835\n",
      "0.5583333333333333\n"
     ]
    }
   ],
   "source": [
    "# for \n",
    "# Fit regression model\n",
    "model = lgb.LGBMRegressor(learning_rate=0.1, num_leaves=1291, max_bin=500, nthread=20)\n",
    "\n",
    "ts = time.time()\n",
    "model.fit(\n",
    "    X_train, \n",
    "    Y_train)\n",
    "print(time.time() - ts)\n",
    "\n",
    "\n",
    "Y_valid_predict = model.predict(X_valid)\n",
    "Y_valid_predict = np.floor(np.expm1(Y_valid_predict))\n",
    "Y_valid = np.floor(np.expm1(Y_valid))\n",
    "metric(Y_valid, Y_valid_predict)"
   ]
  },
  {
   "cell_type": "code",
   "execution_count": 22,
   "metadata": {
    "colab": {},
    "colab_type": "code",
    "id": "aeKrnPhpH2gr"
   },
   "outputs": [],
   "source": [
    "Y_test_predict = model.predict(X_test)\n",
    "Y_test_predict = np.floor(np.expm1(Y_test_predict)) * X_test['building_area']"
   ]
  },
  {
   "cell_type": "markdown",
   "metadata": {
    "colab": {},
    "colab_type": "code",
    "id": "hmmLW_fxH2gt"
   },
   "source": [
    "#### train by all train data and make prediction for test data"
   ]
  },
  {
   "cell_type": "code",
   "execution_count": 23,
   "metadata": {},
   "outputs": [
    {
     "name": "stdout",
     "output_type": "stream",
     "text": [
      "16.540805339813232\n"
     ]
    }
   ],
   "source": [
    "ts = time.time()\n",
    "\n",
    "model = lgb.LGBMRegressor(learning_rate=0.1, num_leaves=1291, max_bin=500)\n",
    "\n",
    "model.fit(\n",
    "    post_train.drop('total_price', axis=1), \n",
    "    post_train['total_price'])\n",
    "\n",
    "print(time.time() - ts)"
   ]
  },
  {
   "cell_type": "code",
   "execution_count": 24,
   "metadata": {},
   "outputs": [],
   "source": [
    "Y_test_predict = model.predict(X_test)\n",
    "Y_test_predict = np.floor(np.expm1(Y_test_predict)) * X_test['building_area']"
   ]
  },
  {
   "cell_type": "code",
   "execution_count": 25,
   "metadata": {},
   "outputs": [],
   "source": [
    "submission = pd.DataFrame({\n",
    "    \"building_id\": test_building_id, \n",
    "    \"total_price\": Y_test_predict\n",
    "})\n",
    "submission.to_csv('./output/submission_lgbm_area_trainByAlltrain.csv', index=False)"
   ]
  },
  {
   "cell_type": "code",
   "execution_count": 26,
   "metadata": {},
   "outputs": [
    {
     "data": {
      "text/html": [
       "<div>\n",
       "<style scoped>\n",
       "    .dataframe tbody tr th:only-of-type {\n",
       "        vertical-align: middle;\n",
       "    }\n",
       "\n",
       "    .dataframe tbody tr th {\n",
       "        vertical-align: top;\n",
       "    }\n",
       "\n",
       "    .dataframe thead th {\n",
       "        text-align: right;\n",
       "    }\n",
       "</style>\n",
       "<table border=\"1\" class=\"dataframe\">\n",
       "  <thead>\n",
       "    <tr style=\"text-align: right;\">\n",
       "      <th></th>\n",
       "      <th>building_id</th>\n",
       "      <th>total_price</th>\n",
       "    </tr>\n",
       "  </thead>\n",
       "  <tbody>\n",
       "    <tr>\n",
       "      <th>60000</th>\n",
       "      <td>X5gsdTWGS3W7JJQB</td>\n",
       "      <td>9.825002e+06</td>\n",
       "    </tr>\n",
       "    <tr>\n",
       "      <th>60001</th>\n",
       "      <td>BTshNOJyKHnT2YIT</td>\n",
       "      <td>3.856616e+06</td>\n",
       "    </tr>\n",
       "    <tr>\n",
       "      <th>60002</th>\n",
       "      <td>dhdymr0lV8N5kZOT</td>\n",
       "      <td>9.501463e+06</td>\n",
       "    </tr>\n",
       "    <tr>\n",
       "      <th>60003</th>\n",
       "      <td>VEwyGGMcD56w5BOc</td>\n",
       "      <td>6.006644e+06</td>\n",
       "    </tr>\n",
       "    <tr>\n",
       "      <th>60004</th>\n",
       "      <td>wmUeMoJZfsqaSX9b</td>\n",
       "      <td>1.098023e+06</td>\n",
       "    </tr>\n",
       "    <tr>\n",
       "      <th>60005</th>\n",
       "      <td>EtBjGAHmHCe9t7TZ</td>\n",
       "      <td>3.126398e+06</td>\n",
       "    </tr>\n",
       "    <tr>\n",
       "      <th>60006</th>\n",
       "      <td>hPNH34vmaZtvBtqc</td>\n",
       "      <td>1.251853e+07</td>\n",
       "    </tr>\n",
       "    <tr>\n",
       "      <th>60007</th>\n",
       "      <td>wXjeI38bYDMJJwZC</td>\n",
       "      <td>5.832763e+06</td>\n",
       "    </tr>\n",
       "    <tr>\n",
       "      <th>60008</th>\n",
       "      <td>fxZSGX6aPAFKU8W4</td>\n",
       "      <td>1.677061e+06</td>\n",
       "    </tr>\n",
       "    <tr>\n",
       "      <th>60009</th>\n",
       "      <td>ewr0Fx6ign87OwaV</td>\n",
       "      <td>4.288866e+06</td>\n",
       "    </tr>\n",
       "    <tr>\n",
       "      <th>60010</th>\n",
       "      <td>gHKurnEP4AowzsLg</td>\n",
       "      <td>8.893819e+05</td>\n",
       "    </tr>\n",
       "    <tr>\n",
       "      <th>60011</th>\n",
       "      <td>PmLfTgY2FElLrTl0</td>\n",
       "      <td>5.410945e+06</td>\n",
       "    </tr>\n",
       "    <tr>\n",
       "      <th>60012</th>\n",
       "      <td>eM2NppIOwzW0o8iy</td>\n",
       "      <td>1.022464e+07</td>\n",
       "    </tr>\n",
       "    <tr>\n",
       "      <th>60013</th>\n",
       "      <td>dxxwNun97NH4WTrZ</td>\n",
       "      <td>3.499039e+06</td>\n",
       "    </tr>\n",
       "    <tr>\n",
       "      <th>60014</th>\n",
       "      <td>jykBfhh3vdeFUi3H</td>\n",
       "      <td>4.197594e+06</td>\n",
       "    </tr>\n",
       "    <tr>\n",
       "      <th>60015</th>\n",
       "      <td>NlXbvdFfmJZf3L18</td>\n",
       "      <td>2.066766e+07</td>\n",
       "    </tr>\n",
       "    <tr>\n",
       "      <th>60016</th>\n",
       "      <td>D7jaFWHCzSqLBwdt</td>\n",
       "      <td>9.619873e+05</td>\n",
       "    </tr>\n",
       "    <tr>\n",
       "      <th>60017</th>\n",
       "      <td>L10dBBdqGmemweSl</td>\n",
       "      <td>7.057918e+06</td>\n",
       "    </tr>\n",
       "    <tr>\n",
       "      <th>60018</th>\n",
       "      <td>OgB0AdiPKlElakKN</td>\n",
       "      <td>1.196522e+06</td>\n",
       "    </tr>\n",
       "    <tr>\n",
       "      <th>60019</th>\n",
       "      <td>StiWNN1GQrpPBOYt</td>\n",
       "      <td>2.705903e+06</td>\n",
       "    </tr>\n",
       "    <tr>\n",
       "      <th>60020</th>\n",
       "      <td>a016eMAVQKnfwMnt</td>\n",
       "      <td>1.844359e+07</td>\n",
       "    </tr>\n",
       "    <tr>\n",
       "      <th>60021</th>\n",
       "      <td>gsCFcQHnOH3AKMcZ</td>\n",
       "      <td>3.669008e+06</td>\n",
       "    </tr>\n",
       "    <tr>\n",
       "      <th>60022</th>\n",
       "      <td>IbNsDXfsPwSuFpow</td>\n",
       "      <td>6.073160e+06</td>\n",
       "    </tr>\n",
       "    <tr>\n",
       "      <th>60023</th>\n",
       "      <td>EgAVWOVxD1Jy5YkE</td>\n",
       "      <td>1.403565e+06</td>\n",
       "    </tr>\n",
       "    <tr>\n",
       "      <th>60024</th>\n",
       "      <td>BrKghvR76XdbQPnx</td>\n",
       "      <td>7.095294e+06</td>\n",
       "    </tr>\n",
       "    <tr>\n",
       "      <th>60025</th>\n",
       "      <td>a7fxkXTnUGWHUmKG</td>\n",
       "      <td>2.294090e+07</td>\n",
       "    </tr>\n",
       "    <tr>\n",
       "      <th>60026</th>\n",
       "      <td>WgzXa170DfpzpURE</td>\n",
       "      <td>8.716013e+06</td>\n",
       "    </tr>\n",
       "    <tr>\n",
       "      <th>60027</th>\n",
       "      <td>JPWqZbLq0VNC0yKI</td>\n",
       "      <td>9.531523e+06</td>\n",
       "    </tr>\n",
       "    <tr>\n",
       "      <th>60028</th>\n",
       "      <td>JQgTtbVstqFZwEK1</td>\n",
       "      <td>4.146413e+05</td>\n",
       "    </tr>\n",
       "    <tr>\n",
       "      <th>60029</th>\n",
       "      <td>bCSDbEthlS3nSIor</td>\n",
       "      <td>2.224128e+06</td>\n",
       "    </tr>\n",
       "    <tr>\n",
       "      <th>...</th>\n",
       "      <td>...</td>\n",
       "      <td>...</td>\n",
       "    </tr>\n",
       "    <tr>\n",
       "      <th>69970</th>\n",
       "      <td>QL412tWF5RDIX7IO</td>\n",
       "      <td>2.142785e+06</td>\n",
       "    </tr>\n",
       "    <tr>\n",
       "      <th>69971</th>\n",
       "      <td>d3c2ceGtckONZzsr</td>\n",
       "      <td>7.787167e+06</td>\n",
       "    </tr>\n",
       "    <tr>\n",
       "      <th>69972</th>\n",
       "      <td>P1j8YRbxDAovumaI</td>\n",
       "      <td>1.017743e+07</td>\n",
       "    </tr>\n",
       "    <tr>\n",
       "      <th>69973</th>\n",
       "      <td>IxcBhEoFLcrI9TPr</td>\n",
       "      <td>2.390166e+06</td>\n",
       "    </tr>\n",
       "    <tr>\n",
       "      <th>69974</th>\n",
       "      <td>rKiV0KDbAl2myBQI</td>\n",
       "      <td>1.632936e+06</td>\n",
       "    </tr>\n",
       "    <tr>\n",
       "      <th>69975</th>\n",
       "      <td>GSdIXmKr0g5jQQcF</td>\n",
       "      <td>1.351750e+06</td>\n",
       "    </tr>\n",
       "    <tr>\n",
       "      <th>69976</th>\n",
       "      <td>Am6Wcg3TO64qvzd8</td>\n",
       "      <td>3.170510e+07</td>\n",
       "    </tr>\n",
       "    <tr>\n",
       "      <th>69977</th>\n",
       "      <td>RZqACAhkL4Tgw4Jr</td>\n",
       "      <td>1.037938e+08</td>\n",
       "    </tr>\n",
       "    <tr>\n",
       "      <th>69978</th>\n",
       "      <td>u7NKZfWoMUlZy9rJ</td>\n",
       "      <td>3.886577e+06</td>\n",
       "    </tr>\n",
       "    <tr>\n",
       "      <th>69979</th>\n",
       "      <td>C1BqV4MWH15rjAgz</td>\n",
       "      <td>2.836836e+06</td>\n",
       "    </tr>\n",
       "    <tr>\n",
       "      <th>69980</th>\n",
       "      <td>wz8A2UbwsgR0lXGJ</td>\n",
       "      <td>2.541496e+06</td>\n",
       "    </tr>\n",
       "    <tr>\n",
       "      <th>69981</th>\n",
       "      <td>MGJ8ABBTmC2yIaSm</td>\n",
       "      <td>9.757322e+06</td>\n",
       "    </tr>\n",
       "    <tr>\n",
       "      <th>69982</th>\n",
       "      <td>MjHL2HP1PGIp8aBt</td>\n",
       "      <td>1.347874e+06</td>\n",
       "    </tr>\n",
       "    <tr>\n",
       "      <th>69983</th>\n",
       "      <td>FMz7nnURFn85LaGt</td>\n",
       "      <td>7.999796e+07</td>\n",
       "    </tr>\n",
       "    <tr>\n",
       "      <th>69984</th>\n",
       "      <td>kydULx0r0G7OklRD</td>\n",
       "      <td>5.405880e+06</td>\n",
       "    </tr>\n",
       "    <tr>\n",
       "      <th>69985</th>\n",
       "      <td>nVNYRuk2fRbtlV00</td>\n",
       "      <td>2.753291e+07</td>\n",
       "    </tr>\n",
       "    <tr>\n",
       "      <th>69986</th>\n",
       "      <td>F8SGEOGPxrPfiRv2</td>\n",
       "      <td>6.202561e+05</td>\n",
       "    </tr>\n",
       "    <tr>\n",
       "      <th>69987</th>\n",
       "      <td>w7VMfiMvRb765ejK</td>\n",
       "      <td>3.108980e+07</td>\n",
       "    </tr>\n",
       "    <tr>\n",
       "      <th>69988</th>\n",
       "      <td>lgZWdUKliWt2y5sM</td>\n",
       "      <td>1.247346e+07</td>\n",
       "    </tr>\n",
       "    <tr>\n",
       "      <th>69989</th>\n",
       "      <td>TER8YrP9mw7UwWwr</td>\n",
       "      <td>5.027329e+06</td>\n",
       "    </tr>\n",
       "    <tr>\n",
       "      <th>69990</th>\n",
       "      <td>TXHk3oUpVsm5Cmag</td>\n",
       "      <td>2.896553e+06</td>\n",
       "    </tr>\n",
       "    <tr>\n",
       "      <th>69991</th>\n",
       "      <td>JtgDm9aQcGE9zELB</td>\n",
       "      <td>4.185964e+05</td>\n",
       "    </tr>\n",
       "    <tr>\n",
       "      <th>69992</th>\n",
       "      <td>wTQmcqbN0OCuSF1t</td>\n",
       "      <td>1.564597e+07</td>\n",
       "    </tr>\n",
       "    <tr>\n",
       "      <th>69993</th>\n",
       "      <td>WgsI1cBtzSfiWA1j</td>\n",
       "      <td>1.630470e+07</td>\n",
       "    </tr>\n",
       "    <tr>\n",
       "      <th>69994</th>\n",
       "      <td>qNgt1ajb5uVMKbqm</td>\n",
       "      <td>3.966199e+06</td>\n",
       "    </tr>\n",
       "    <tr>\n",
       "      <th>69995</th>\n",
       "      <td>UEeCDaAJzPwdKKKA</td>\n",
       "      <td>1.166061e+06</td>\n",
       "    </tr>\n",
       "    <tr>\n",
       "      <th>69996</th>\n",
       "      <td>i0fgbPaQsDWs7Q87</td>\n",
       "      <td>4.650997e+07</td>\n",
       "    </tr>\n",
       "    <tr>\n",
       "      <th>69997</th>\n",
       "      <td>YunNwAhcqkf6YclI</td>\n",
       "      <td>1.073572e+06</td>\n",
       "    </tr>\n",
       "    <tr>\n",
       "      <th>69998</th>\n",
       "      <td>A2NotxtRY9MYoWMl</td>\n",
       "      <td>2.825063e+06</td>\n",
       "    </tr>\n",
       "    <tr>\n",
       "      <th>69999</th>\n",
       "      <td>kKvgBXiA50gRmQhP</td>\n",
       "      <td>3.006987e+06</td>\n",
       "    </tr>\n",
       "  </tbody>\n",
       "</table>\n",
       "<p>10000 rows × 2 columns</p>\n",
       "</div>"
      ],
      "text/plain": [
       "            building_id   total_price\n",
       "60000  X5gsdTWGS3W7JJQB  9.825002e+06\n",
       "60001  BTshNOJyKHnT2YIT  3.856616e+06\n",
       "60002  dhdymr0lV8N5kZOT  9.501463e+06\n",
       "60003  VEwyGGMcD56w5BOc  6.006644e+06\n",
       "60004  wmUeMoJZfsqaSX9b  1.098023e+06\n",
       "60005  EtBjGAHmHCe9t7TZ  3.126398e+06\n",
       "60006  hPNH34vmaZtvBtqc  1.251853e+07\n",
       "60007  wXjeI38bYDMJJwZC  5.832763e+06\n",
       "60008  fxZSGX6aPAFKU8W4  1.677061e+06\n",
       "60009  ewr0Fx6ign87OwaV  4.288866e+06\n",
       "60010  gHKurnEP4AowzsLg  8.893819e+05\n",
       "60011  PmLfTgY2FElLrTl0  5.410945e+06\n",
       "60012  eM2NppIOwzW0o8iy  1.022464e+07\n",
       "60013  dxxwNun97NH4WTrZ  3.499039e+06\n",
       "60014  jykBfhh3vdeFUi3H  4.197594e+06\n",
       "60015  NlXbvdFfmJZf3L18  2.066766e+07\n",
       "60016  D7jaFWHCzSqLBwdt  9.619873e+05\n",
       "60017  L10dBBdqGmemweSl  7.057918e+06\n",
       "60018  OgB0AdiPKlElakKN  1.196522e+06\n",
       "60019  StiWNN1GQrpPBOYt  2.705903e+06\n",
       "60020  a016eMAVQKnfwMnt  1.844359e+07\n",
       "60021  gsCFcQHnOH3AKMcZ  3.669008e+06\n",
       "60022  IbNsDXfsPwSuFpow  6.073160e+06\n",
       "60023  EgAVWOVxD1Jy5YkE  1.403565e+06\n",
       "60024  BrKghvR76XdbQPnx  7.095294e+06\n",
       "60025  a7fxkXTnUGWHUmKG  2.294090e+07\n",
       "60026  WgzXa170DfpzpURE  8.716013e+06\n",
       "60027  JPWqZbLq0VNC0yKI  9.531523e+06\n",
       "60028  JQgTtbVstqFZwEK1  4.146413e+05\n",
       "60029  bCSDbEthlS3nSIor  2.224128e+06\n",
       "...                 ...           ...\n",
       "69970  QL412tWF5RDIX7IO  2.142785e+06\n",
       "69971  d3c2ceGtckONZzsr  7.787167e+06\n",
       "69972  P1j8YRbxDAovumaI  1.017743e+07\n",
       "69973  IxcBhEoFLcrI9TPr  2.390166e+06\n",
       "69974  rKiV0KDbAl2myBQI  1.632936e+06\n",
       "69975  GSdIXmKr0g5jQQcF  1.351750e+06\n",
       "69976  Am6Wcg3TO64qvzd8  3.170510e+07\n",
       "69977  RZqACAhkL4Tgw4Jr  1.037938e+08\n",
       "69978  u7NKZfWoMUlZy9rJ  3.886577e+06\n",
       "69979  C1BqV4MWH15rjAgz  2.836836e+06\n",
       "69980  wz8A2UbwsgR0lXGJ  2.541496e+06\n",
       "69981  MGJ8ABBTmC2yIaSm  9.757322e+06\n",
       "69982  MjHL2HP1PGIp8aBt  1.347874e+06\n",
       "69983  FMz7nnURFn85LaGt  7.999796e+07\n",
       "69984  kydULx0r0G7OklRD  5.405880e+06\n",
       "69985  nVNYRuk2fRbtlV00  2.753291e+07\n",
       "69986  F8SGEOGPxrPfiRv2  6.202561e+05\n",
       "69987  w7VMfiMvRb765ejK  3.108980e+07\n",
       "69988  lgZWdUKliWt2y5sM  1.247346e+07\n",
       "69989  TER8YrP9mw7UwWwr  5.027329e+06\n",
       "69990  TXHk3oUpVsm5Cmag  2.896553e+06\n",
       "69991  JtgDm9aQcGE9zELB  4.185964e+05\n",
       "69992  wTQmcqbN0OCuSF1t  1.564597e+07\n",
       "69993  WgsI1cBtzSfiWA1j  1.630470e+07\n",
       "69994  qNgt1ajb5uVMKbqm  3.966199e+06\n",
       "69995  UEeCDaAJzPwdKKKA  1.166061e+06\n",
       "69996  i0fgbPaQsDWs7Q87  4.650997e+07\n",
       "69997  YunNwAhcqkf6YclI  1.073572e+06\n",
       "69998  A2NotxtRY9MYoWMl  2.825063e+06\n",
       "69999  kKvgBXiA50gRmQhP  3.006987e+06\n",
       "\n",
       "[10000 rows x 2 columns]"
      ]
     },
     "execution_count": 26,
     "metadata": {},
     "output_type": "execute_result"
    }
   ],
   "source": [
    "submission"
   ]
  },
  {
   "cell_type": "code",
   "execution_count": null,
   "metadata": {},
   "outputs": [],
   "source": []
  }
 ],
 "metadata": {
  "colab": {
   "name": "lgbm_area.ipynb",
   "provenance": [],
   "version": "0.3.2"
  },
  "kernelspec": {
   "display_name": "Python3.7 (jui)",
   "language": "python",
   "name": "jui"
  },
  "language_info": {
   "codemirror_mode": {
    "name": "ipython",
    "version": 3
   },
   "file_extension": ".py",
   "mimetype": "text/x-python",
   "name": "python",
   "nbconvert_exporter": "python",
   "pygments_lexer": "ipython3",
   "version": "3.7.3"
  }
 },
 "nbformat": 4,
 "nbformat_minor": 2
}
