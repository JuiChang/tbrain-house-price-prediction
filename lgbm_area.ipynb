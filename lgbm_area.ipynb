{
 "cells": [
  {
   "cell_type": "code",
   "execution_count": 1,
   "metadata": {},
   "outputs": [],
   "source": [
    "import numpy as np\n",
    "import pandas as pd\n",
    "import matplotlib.pyplot as plt\n",
    "\n",
    "import lightgbm as lgb\n",
    "\n",
    "import time"
   ]
  },
  {
   "cell_type": "code",
   "execution_count": 2,
   "metadata": {
    "colab": {},
    "colab_type": "code",
    "id": "yyJo81UXH2ck"
   },
   "outputs": [],
   "source": [
    "def num_null(df):\n",
    "    missing = df.isnull().sum()\n",
    "    print('Show #missing in the columns:')\n",
    "    for i in range(df.shape[1]):\n",
    "        if missing[i]:\n",
    "            print(missing.index[i], ':', missing[i])\n",
    "\n",
    "\n",
    "def metric(truth, pred):\n",
    "    truth = np.array(truth)\n",
    "    pred = np.array(pred)\n",
    "    diff = abs(pred - truth) / truth\n",
    "    print(list(diff <= 0.1).count(True) / len(diff))"
   ]
  },
  {
   "cell_type": "code",
   "execution_count": 3,
   "metadata": {
    "colab": {},
    "colab_type": "code",
    "id": "UnW3T6lpH2c0"
   },
   "outputs": [],
   "source": [
    "train = pd.read_csv('./dataset/train.csv')\n",
    "test = pd.read_csv('./dataset/test.csv')"
   ]
  },
  {
   "cell_type": "code",
   "execution_count": 4,
   "metadata": {},
   "outputs": [],
   "source": [
    "train['town'] = train['city'] * 1000 + train['town']\n",
    "test['town'] = test['city'] * 1000 + test['town']"
   ]
  },
  {
   "cell_type": "code",
   "execution_count": 5,
   "metadata": {
    "colab": {},
    "colab_type": "code",
    "id": "GgCm0DowH2c_"
   },
   "outputs": [],
   "source": [
    "train['total_price'] = np.log1p(train[\"total_price\"] / train[\"building_area\"])\n",
    "# train['total_price'] = np.log1p(train[\"total_price\"])"
   ]
  },
  {
   "cell_type": "code",
   "execution_count": 6,
   "metadata": {
    "colab": {},
    "colab_type": "code",
    "id": "_8dn8Ni6H2dI"
   },
   "outputs": [],
   "source": [
    "X = pd.concat([train.drop(['total_price'], axis=1), test])\n",
    "X.reset_index(inplace=True, drop=True)"
   ]
  },
  {
   "cell_type": "code",
   "execution_count": 7,
   "metadata": {
    "colab": {
     "base_uri": "https://localhost:8080/",
     "height": 101
    },
    "colab_type": "code",
    "executionInfo": {
     "elapsed": 5880,
     "status": "ok",
     "timestamp": 1560007746476,
     "user": {
      "displayName": "Jui Chang",
      "photoUrl": "",
      "userId": "05195575351194981658"
     },
     "user_tz": -480
    },
    "id": "3V99xhNGH2dZ",
    "outputId": "228565ea-5fda-4f32-d38b-184c439e7596"
   },
   "outputs": [
    {
     "name": "stdout",
     "output_type": "stream",
     "text": [
      "Show #missing in the columns:\n",
      "parking_area : 66397\n",
      "parking_price : 53775\n",
      "txn_floor : 18541\n",
      "village_income_median : 1326\n"
     ]
    }
   ],
   "source": [
    "num_null(X)"
   ]
  },
  {
   "cell_type": "code",
   "execution_count": 8,
   "metadata": {
    "colab": {},
    "colab_type": "code",
    "id": "9yqb4B2VH2dx"
   },
   "outputs": [],
   "source": [
    "pd.options.mode.chained_assignment = None"
   ]
  },
  {
   "cell_type": "code",
   "execution_count": 9,
   "metadata": {
    "colab": {},
    "colab_type": "code",
    "id": "ydGlT_0AH2d-"
   },
   "outputs": [],
   "source": [
    "X_imp = X.copy()\n",
    "X_imp['parking_area'].fillna(0, inplace=True)\n",
    "X_imp['parking_price'].fillna(X_imp['parking_price'].median(), inplace=True)\n",
    "X_imp['txn_floor'].fillna(-1, inplace=True)"
   ]
  },
  {
   "cell_type": "code",
   "execution_count": 10,
   "metadata": {
    "colab": {},
    "colab_type": "code",
    "id": "1nK-26JaH2eR"
   },
   "outputs": [],
   "source": [
    "vimm = X_imp.groupby('village').agg({'village_income_median':'mean'})\n",
    "\n",
    "vim_isnan = np.isnan(X_imp['village_income_median'])\n",
    "for i in range(len(X_imp)):\n",
    "    if vim_isnan[i]:\n",
    "        X_imp['village_income_median'][i] = vimm.loc[X_imp['village'][i], 'village_income_median']"
   ]
  },
  {
   "cell_type": "code",
   "execution_count": 11,
   "metadata": {
    "colab": {
     "base_uri": "https://localhost:8080/",
     "height": 50
    },
    "colab_type": "code",
    "executionInfo": {
     "elapsed": 7241,
     "status": "ok",
     "timestamp": 1560007747900,
     "user": {
      "displayName": "Jui Chang",
      "photoUrl": "",
      "userId": "05195575351194981658"
     },
     "user_tz": -480
    },
    "id": "wKm9TeaEH2eb",
    "outputId": "40127974-259c-410a-c98c-9bc18c23637e"
   },
   "outputs": [
    {
     "name": "stdout",
     "output_type": "stream",
     "text": [
      "Show #missing in the columns:\n",
      "village_income_median : 938\n"
     ]
    }
   ],
   "source": [
    "num_null(X_imp)"
   ]
  },
  {
   "cell_type": "code",
   "execution_count": 12,
   "metadata": {
    "colab": {},
    "colab_type": "code",
    "id": "XVZZJ1GhH2e2"
   },
   "outputs": [],
   "source": [
    "tvimm = X_imp.groupby('town').agg({'village_income_median':'median'})\n",
    "\n",
    "vim_isnan = np.isnan(X_imp['village_income_median'])\n",
    "for i in range(len(X_imp)):\n",
    "    if vim_isnan[i]:\n",
    "        X_imp['village_income_median'][i] = tvimm.loc[X_imp['town'][i], 'village_income_median']"
   ]
  },
  {
   "cell_type": "code",
   "execution_count": 13,
   "metadata": {
    "colab": {
     "base_uri": "https://localhost:8080/",
     "height": 34
    },
    "colab_type": "code",
    "executionInfo": {
     "elapsed": 7871,
     "status": "ok",
     "timestamp": 1560007748566,
     "user": {
      "displayName": "Jui Chang",
      "photoUrl": "",
      "userId": "05195575351194981658"
     },
     "user_tz": -480
    },
    "id": "kWoZQfjhH2e8",
    "outputId": "e507dea2-88e2-4aea-8ac7-48402801004e"
   },
   "outputs": [
    {
     "name": "stdout",
     "output_type": "stream",
     "text": [
      "Show #missing in the columns:\n"
     ]
    }
   ],
   "source": [
    "num_null(X_imp)"
   ]
  },
  {
   "cell_type": "code",
   "execution_count": 14,
   "metadata": {
    "colab": {},
    "colab_type": "code",
    "id": "4a8dIfnSH2fJ"
   },
   "outputs": [],
   "source": [
    "# X_imp['dt_diff'] = X_imp['txn_dt'] - X_imp['building_complete_dt']"
   ]
  },
  {
   "cell_type": "code",
   "execution_count": 15,
   "metadata": {
    "colab": {},
    "colab_type": "code",
    "id": "-5B6rRkmH2fZ"
   },
   "outputs": [],
   "source": [
    "# X_imp.drop(list(X_imp.filter(regex=('_MIN'))), axis=1, inplace=True)\n",
    "# print(X_imp.shape)\n",
    "# X_imp.drop(list(X_imp.filter(regex=('_index_'))), axis=1, inplace=True)\n",
    "# print(X_imp.shape)\n",
    "# X_imp.drop(list(X_imp.filter(regex=('^N'))), axis=1, inplace=True)\n",
    "# print(X_imp.shape)\n",
    "# X_imp.drop(list(X_imp.filter(regex=('_10$'))), axis=1, inplace=True)\n",
    "# print(X_imp.shape)\n",
    "# X_imp.drop(list(X_imp.filter(regex=('_50$'))), axis=1, inplace=True)\n",
    "# print(X_imp.shape)\n",
    "# X_imp.drop(list(X_imp.filter(regex=('_100$'))), axis=1, inplace=True)\n",
    "# print(X_imp.shape)\n",
    "# X_imp.drop(list(X_imp.filter(regex=('_250$'))), axis=1, inplace=True)\n",
    "# print(X_imp.shape)\n",
    "# X_imp.drop(list(X_imp.filter(regex=('_500$'))), axis=1, inplace=True)\n",
    "# print(X_imp.shape)\n",
    "# X_imp.drop(list(X_imp.filter(regex=('_1000$'))), axis=1, inplace=True)\n",
    "# print(X_imp.shape)\n",
    "# X_imp.drop(list(X_imp.filter(regex=('_5000$'))), axis=1, inplace=True)\n",
    "# print(X_imp.shape)"
   ]
  },
  {
   "cell_type": "code",
   "execution_count": 16,
   "metadata": {
    "colab": {},
    "colab_type": "code",
    "id": "P377bvdgH2fo"
   },
   "outputs": [],
   "source": [
    "# concat_train = pd.concat([X_train, Y_train], axis=1)\n",
    "concat_train = train.copy()\n",
    "\n",
    "# cat_mean_df = concat_train.groupby('building_material').agg({'total_price':'mean'})\n",
    "# X_imp['building_material'] = list(cat_mean_df.loc[list(X_imp['building_material']), :]['total_price'])\n",
    "\n",
    "# cat_mean_df = concat_train.groupby('city').agg({'total_price':'mean'})\n",
    "# X_imp['city'] = list(cat_mean_df.loc[list(X_imp['city']), :]['total_price'])\n",
    "\n",
    "# cat_mean_df = concat_train.groupby('town').agg({'total_price':'mean'})\n",
    "# X_imp['town'] = list(cat_mean_df.loc[list(X_imp['town']), :]['total_price'])\n",
    "\n",
    "# cat_mean_df = concat_train.groupby('village').agg({'total_price':'mean'})\n",
    "# X_imp['village'] = list(cat_mean_df.loc[list(X_imp['village']), :]['total_price'])\n",
    "\n",
    "# cat_mean_df = concat_train.groupby('building_type').agg({'total_price':'mean'})\n",
    "# X_imp['building_type'] = list(cat_mean_df.loc[list(X_imp['building_type']), :]['total_price'])\n",
    "\n",
    "# cat_mean_df = concat_train.groupby('building_use').agg({'total_price':'mean'})\n",
    "# X_imp['building_use'] = list(cat_mean_df.loc[list(X_imp['building_use']), :]['total_price'])\n",
    "\n",
    "# cat_mean_df = concat_train.groupby('parking_way').agg({'total_price':'mean'})\n",
    "# X_imp['parking_way'] = list(cat_mean_df.loc[list(X_imp['parking_way']), :]['total_price'])\n",
    "\n",
    "\n",
    "\n",
    "\n",
    "\n",
    "building_material_dummies = pd.get_dummies(X_imp['building_material'])\n",
    "building_material_dummies.columns = ['building_material_' + str(col) for col in building_material_dummies.columns]\n",
    "X_imp = pd.concat([X_imp, building_material_dummies], axis=1)\n",
    "X_imp.drop(['building_material', building_material_dummies.columns[0]], inplace=True, axis=1)\n",
    "\n",
    "city_dummies = pd.get_dummies(X_imp['city'])\n",
    "city_dummies.columns = ['city_' + str(col) for col in city_dummies.columns]\n",
    "X_imp = pd.concat([X_imp, city_dummies], axis=1)\n",
    "X_imp.drop(['city', city_dummies.columns[0]], inplace=True, axis=1)\n",
    "\n",
    "# town_dummies = pd.get_dummies(X_imp['town'])\n",
    "# town_dummies.columns = ['town_' + str(col) for col in town_dummies.columns]\n",
    "# X_imp = pd.concat([X_imp, town_dummies], axis=1)\n",
    "# X_imp.drop(['town', town_dummies.columns[0]], inplace=True, axis=1)\n",
    "\n",
    "# village_dummies = pd.get_dummies(X_imp['village'])\n",
    "# village_dummies.columns = ['village_' + str(col) for col in village_dummies.columns]\n",
    "# X_imp = pd.concat([X_imp, village_dummies], axis=1)\n",
    "# X_imp.drop(['village', village_dummies.columns[0]], inplace=True, axis=1)\n",
    "\n",
    "building_type_dummies = pd.get_dummies(X_imp['building_type'])\n",
    "building_type_dummies.columns = ['building_type_' + str(col) for col in building_type_dummies.columns]\n",
    "X_imp = pd.concat([X_imp, building_type_dummies], axis=1)\n",
    "X_imp.drop(['building_type', building_type_dummies.columns[0]], inplace=True, axis=1)\n",
    "\n",
    "building_use_dummies = pd.get_dummies(X_imp['building_use'])\n",
    "building_use_dummies.columns = ['building_use_' + str(col) for col in building_use_dummies.columns]\n",
    "X_imp = pd.concat([X_imp, building_use_dummies], axis=1)\n",
    "X_imp.drop(['building_use', building_use_dummies.columns[0]], inplace=True, axis=1)\n",
    "\n",
    "parking_way_dummies = pd.get_dummies(X_imp['parking_way'])\n",
    "parking_way_dummies.columns = ['parking_way_' + str(col) for col in parking_way_dummies.columns]\n",
    "X_imp = pd.concat([X_imp, parking_way_dummies], axis=1)\n",
    "X_imp.drop(['parking_way', parking_way_dummies.columns[0]], inplace=True, axis=1)\n"
   ]
  },
  {
   "cell_type": "code",
   "execution_count": 17,
   "metadata": {
    "colab": {},
    "colab_type": "code",
    "id": "UMC1SsI_H2f0"
   },
   "outputs": [],
   "source": [
    "# X_imp.drop(['parking_price', 'parking_area', 'parking_way'], axis=1, inplace = True)"
   ]
  },
  {
   "cell_type": "code",
   "execution_count": 18,
   "metadata": {
    "colab": {},
    "colab_type": "code",
    "id": "SHRohW-aH2f8"
   },
   "outputs": [],
   "source": [
    "post_train = X_imp.head(60000)\n",
    "X_test = X_imp.tail(10000)\n",
    "\n",
    "post_train.drop('building_id', axis=1, inplace=True)\n",
    "post_train['total_price'] = train.head(60000)['total_price']\n",
    "\n",
    "test_building_id = X_test['building_id']\n",
    "X_test.drop('building_id', axis=1, inplace=True)"
   ]
  },
  {
   "cell_type": "code",
   "execution_count": 19,
   "metadata": {
    "colab": {},
    "colab_type": "code",
    "id": "X8MmpUUUH2gI"
   },
   "outputs": [],
   "source": [
    "# rm_outlier_cols = ['total_price']\n",
    "# for col in rm_outlier_cols:\n",
    "#     col99 = np.percentile(post_train[col], 99)\n",
    "# #     col01 = np.percentile(post_train[col], 1)\n",
    "#     post_train = post_train[post_train[col] <= col99]\n",
    "# #     post_train = post_train[post_train[col] >= col01]"
   ]
  },
  {
   "cell_type": "code",
   "execution_count": 20,
   "metadata": {
    "colab": {},
    "colab_type": "code",
    "id": "zJ-gYz5_H2gM",
    "scrolled": true
   },
   "outputs": [],
   "source": [
    "from sklearn.model_selection import train_test_split\n",
    "X_train, X_valid, Y_train, Y_valid = train_test_split(\n",
    "                        post_train.drop('total_price', axis=1), post_train['total_price'], test_size=0.2, random_state=42)\n"
   ]
  },
  {
   "cell_type": "code",
   "execution_count": 21,
   "metadata": {
    "colab": {
     "base_uri": "https://localhost:8080/",
     "height": 50
    },
    "colab_type": "code",
    "executionInfo": {
     "elapsed": 109782,
     "status": "ok",
     "timestamp": 1560007850573,
     "user": {
      "displayName": "Jui Chang",
      "photoUrl": "",
      "userId": "05195575351194981658"
     },
     "user_tz": -480
    },
    "id": "wi5eY4K0H2gQ",
    "outputId": "af82d4fa-a4b1-4493-efd8-a5255e423715"
   },
   "outputs": [
    {
     "name": "stdout",
     "output_type": "stream",
     "text": [
      "16.419968128204346\n",
      "0.5559166666666666\n"
     ]
    }
   ],
   "source": [
    "# for \n",
    "# Fit regression model\n",
    "model = lgb.LGBMRegressor(learning_rate=0.1, num_leaves=1291, max_bin=500, nthread=20)\n",
    "\n",
    "ts = time.time()\n",
    "model.fit(\n",
    "    X_train, \n",
    "    Y_train)\n",
    "print(time.time() - ts)\n",
    "\n",
    "\n",
    "Y_valid_predict = model.predict(X_valid)\n",
    "Y_valid_predict = np.floor(np.expm1(Y_valid_predict))\n",
    "Y_valid = np.floor(np.expm1(Y_valid))\n",
    "metric(Y_valid, Y_valid_predict)"
   ]
  },
  {
   "cell_type": "code",
   "execution_count": 22,
   "metadata": {
    "colab": {},
    "colab_type": "code",
    "id": "aeKrnPhpH2gr"
   },
   "outputs": [],
   "source": [
    "Y_test_predict = model.predict(X_test)\n",
    "Y_test_predict = np.floor(np.expm1(Y_test_predict)) * X_test['building_area']"
   ]
  },
  {
   "cell_type": "markdown",
   "metadata": {
    "colab": {},
    "colab_type": "code",
    "id": "hmmLW_fxH2gt"
   },
   "source": [
    "#### train by all train data and make prediction for test data"
   ]
  },
  {
   "cell_type": "code",
   "execution_count": 23,
   "metadata": {},
   "outputs": [
    {
     "name": "stdout",
     "output_type": "stream",
     "text": [
      "16.210123300552368\n"
     ]
    }
   ],
   "source": [
    "ts = time.time()\n",
    "\n",
    "model = lgb.LGBMRegressor(learning_rate=0.1, num_leaves=1291, max_bin=500)\n",
    "\n",
    "model.fit(\n",
    "    post_train.drop('total_price', axis=1), \n",
    "    post_train['total_price'])\n",
    "\n",
    "print(time.time() - ts)"
   ]
  },
  {
   "cell_type": "code",
   "execution_count": 24,
   "metadata": {},
   "outputs": [],
   "source": [
    "Y_test_predict = model.predict(X_test)\n",
    "Y_test_predict = np.floor(np.expm1(Y_test_predict)) * X_test['building_area']"
   ]
  },
  {
   "cell_type": "code",
   "execution_count": 25,
   "metadata": {},
   "outputs": [],
   "source": [
    "submission = pd.DataFrame({\n",
    "    \"building_id\": test_building_id, \n",
    "    \"total_price\": Y_test_predict\n",
    "})\n",
    "submission.to_csv('./output/submission_lgbm_area_trainByAlltrain.csv', index=False)"
   ]
  }
 ],
 "metadata": {
  "colab": {
   "name": "lgbm_area.ipynb",
   "provenance": [],
   "version": "0.3.2"
  },
  "kernelspec": {
   "display_name": "Python3.7 (jui)",
   "language": "python",
   "name": "jui"
  },
  "language_info": {
   "codemirror_mode": {
    "name": "ipython",
    "version": 3
   },
   "file_extension": ".py",
   "mimetype": "text/x-python",
   "name": "python",
   "nbconvert_exporter": "python",
   "pygments_lexer": "ipython3",
   "version": "3.7.3"
  }
 },
 "nbformat": 4,
 "nbformat_minor": 2
}
